{
  "nbformat": 4,
  "nbformat_minor": 0,
  "metadata": {
    "colab": {
      "name": "ml.ipynb",
      "provenance": [],
      "authorship_tag": "ABX9TyME97N6N4M6Zr/ZKNsoFY1H",
      "include_colab_link": true
    },
    "kernelspec": {
      "name": "python3",
      "display_name": "Python 3"
    },
    "language_info": {
      "name": "python"
    }
  },
  "cells": [
    {
      "cell_type": "markdown",
      "metadata": {
        "id": "view-in-github",
        "colab_type": "text"
      },
      "source": [
        "<a href=\"https://colab.research.google.com/github/SemihAkkoc/machine_learning/blob/main/hello_world_ml.ipynb\" target=\"_parent\"><img src=\"https://colab.research.google.com/assets/colab-badge.svg\" alt=\"Open In Colab\"/></a>"
      ]
    },
    {
      "cell_type": "code",
      "execution_count": 1,
      "metadata": {
        "id": "jZZX6xXsvCQu"
      },
      "outputs": [],
      "source": [
        "from tensorflow import keras, nn\n",
        "import numpy as np\n",
        "import matplotlib.pyplot as plt\n",
        "\n",
        "mnist = keras.datasets.mnist\n",
        "(x_train, y_train), (x_test, y_test) = mnist.load_data()\n",
        "x_train = keras.utils.normalize(x_train, axis=1)\n",
        "x_test = keras.utils.normalize(x_test, axis=1)"
      ]
    },
    {
      "cell_type": "code",
      "source": [
        "# to visualize\n",
        "plt.figure(figsize=(15,15))\n",
        "for i in range(25):\n",
        "    plt.subplot(5, 5, i+1)\n",
        "    plt.imshow(x_train[i], cmap=plt.cm.binary)\n",
        "    plt.xlabel(y_train[i])\n",
        "    plt.xticks([])\n",
        "    plt.yticks([])\n",
        "plt.show()"
      ],
      "metadata": {
        "id": "g_2j_7lVwSp0"
      },
      "execution_count": 2,
      "outputs": []
    },
    {
      "cell_type": "code",
      "source": [
        "model = keras.models.Sequential([keras.layers.Flatten(),\n",
        "                                 keras.layers.Dense(128, activation=nn.relu),\n",
        "                                 keras.layers.Dense(128, activation=nn.relu),\n",
        "                                 keras.layers.Dense(10, activation=nn.softmax)])\n",
        "model.compile(optimizer='adam', loss='sparse_categorical_crossentropy', metrics=['accuracy'])"
      ],
      "metadata": {
        "id": "b8Uuw3AByx7F"
      },
      "execution_count": 3,
      "outputs": []
    },
    {
      "cell_type": "code",
      "source": [
        "model.fit(x_train, y_train, epochs=3)\n",
        "val_loss, val_acc = model.evaluate(x_test, y_test)\n",
        "print(val_loss, val_acc)"
      ],
      "metadata": {
        "id": "MtycQxUU0BUM"
      },
      "execution_count": 4,
      "outputs": []
    },
    {
      "cell_type": "code",
      "source": [
        "predictions = model.predict([x_test])"
      ],
      "metadata": {
        "id": "cPHwFUsR0S3G"
      },
      "execution_count": 5,
      "outputs": []
    },
    {
      "cell_type": "code",
      "source": [
        "import time\n",
        "\n",
        "for j in range(6):\n",
        "    # plt.clf()\n",
        "    plt.figure(figsize=(15,15))\n",
        "    correct = 0\n",
        "    for i in range(25):\n",
        "        plt.subplot(5, 5, i+1)\n",
        "        k = (j+1)*(25+i)\n",
        "        plt.imshow(x_test[k], cmap=plt.cm.binary)\n",
        "        plt.xlabel(f'Prediction: {np.argmax(predictions[k])} - Real Data: {y_test[k]}')\n",
        "        plt.xticks([])\n",
        "        plt.yticks([])\n",
        "        if np.argmax(predictions[k]) == y_test[k]:\n",
        "            plt.ylabel('Correct')\n",
        "            correct += 1\n",
        "        else:\n",
        "            plt.ylabel('Wrong')\n",
        "    print(f'accuracy out of 25 is {correct/25:.2f}')\n",
        "    plt.show()\n",
        "    time.sleep(5)"
      ],
      "metadata": {
        "id": "jk3j8vzA1ZtF"
      },
      "execution_count": 6,
      "outputs": []
    }
  ]
}
